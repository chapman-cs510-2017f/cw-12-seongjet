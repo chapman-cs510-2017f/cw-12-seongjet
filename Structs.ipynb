{
 "cells": [
  {
   "cell_type": "markdown",
   "metadata": {
    "collapsed": false
   },
   "source": [
    "#### Explain how this code differs from the equivalent C implementation that you examined in a previous class. Be specific and detailed.\n",
    "1. C++ code uses the same name for the function set_vec() for VEC3 and VEC2. This is an overloading technique. Because it has different number of arguments (Overloading), C++ is smart enough to distinguish them.\n",
    "2. C++ uses & before a parameter to pass it as a reference in a function, while C uses a pointer \\*. \n",
    "3. Printing is a different. C++ uses `cout << \"Original 3 vector:\"`, while C uses `printf(\"%Lf\", v);`.\n",
    "\n",
    "#### Explain what a #define guard does, and why it could be useful\n",
    "The \"#define guard\" ensures that the header file is only included once by the preprocessor. The #ifndef is terminated at the end of the header file.\n",
    "\n",
    "#### Explain what type overloading is, and why it could be useful\n",
    "Functions can have the same name if they have different types of arguments or different number of arguments (funtion overloading). It is useful because the functions do the same kind of jobs, while it does the task in a a little bit different way. The first one takes three vector attributes and the other one takes two vector attributes.  \n",
    "\n",
    "#### Explain the difference between \"pass by reference\" in C and \"pass by reference\" in C++.\n",
    "C uses a format of Vec2 \\*wp. Its fields are accessed by (\\*wp).x or wp->x. <br>\n",
    "C++ uses a format of Vec2 &wp. Its fields are accessed by wp.x. \n",
    "\n",
    "#### Explain what operator type overloading is, and why it could be useful.\n",
    "Operator overloading uses the **keyword** and a symbol like **+, = or ==**. It is a polymorphic function and defines different behaviors depending on the types of its arguments. It is usually define methematical operation among the types of its arguments. For example, in our pratice, we add two Vecor types using an operator + overloading. \n"
   ]
  },
  {
   "cell_type": "code",
   "execution_count": 2,
   "metadata": {
    "collapsed": false
   },
   "outputs": [
    {
     "name": "stdout",
     "output_type": "stream",
     "text": [
      "-----Pass by value test-----\n"
     ]
    },
    {
     "name": "stdout",
     "output_type": "stream",
     "text": [
      "Original 3 vector:\n"
     ]
    },
    {
     "name": "stdout",
     "output_type": "stream",
     "text": [
      "3-Vector : [0, 0, 0]\n"
     ]
    },
    {
     "name": "stdout",
     "output_type": "stream",
     "text": [
      "Original 3 vector after modification:\n"
     ]
    },
    {
     "name": "stdout",
     "output_type": "stream",
     "text": [
      "3-Vector : [0, 0, 0]\n"
     ]
    },
    {
     "name": "stdout",
     "output_type": "stream",
     "text": [
      "New 3 vector after modification:\n"
     ]
    },
    {
     "name": "stdout",
     "output_type": "stream",
     "text": [
      "3-Vector : [1, 2, 3]\n"
     ]
    },
    {
     "name": "stdout",
     "output_type": "stream",
     "text": [
      "-----Pass by reference test-----\n"
     ]
    },
    {
     "name": "stdout",
     "output_type": "stream",
     "text": [
      "Original 2 vector:\n"
     ]
    },
    {
     "name": "stdout",
     "output_type": "stream",
     "text": [
      "2Vector : [0, 0]\n"
     ]
    },
    {
     "name": "stdout",
     "output_type": "stream",
     "text": [
      "Original 2 vector after modification:\n"
     ]
    },
    {
     "name": "stdout",
     "output_type": "stream",
     "text": [
      "2Vector : [1, 2]\n"
     ]
    },
    {
     "name": "stdout",
     "output_type": "stream",
     "text": [
      "-----Testing Operator Overloading  Vec2-----\n"
     ]
    },
    {
     "name": "stdout",
     "output_type": "stream",
     "text": [
      "2Vector : [1, 2]\n"
     ]
    },
    {
     "name": "stdout",
     "output_type": "stream",
     "text": [
      "2Vector : [3, 4]\n"
     ]
    },
    {
     "name": "stdout",
     "output_type": "stream",
     "text": [
      "Sum of Two Vec2\n"
     ]
    },
    {
     "name": "stdout",
     "output_type": "stream",
     "text": [
      "2Vector : [4, 6]\n"
     ]
    },
    {
     "name": "stdout",
     "output_type": "stream",
     "text": [
      "-----Testing Operator Overloading Vec3-----\n"
     ]
    },
    {
     "name": "stdout",
     "output_type": "stream",
     "text": [
      "3-Vector : [1, 2, 3]\n"
     ]
    },
    {
     "name": "stdout",
     "output_type": "stream",
     "text": [
      "3-Vector : [3, 4, 5]\n"
     ]
    },
    {
     "name": "stdout",
     "output_type": "stream",
     "text": [
      "Sum of Two Vec3\n"
     ]
    },
    {
     "name": "stdout",
     "output_type": "stream",
     "text": [
      "3-Vector : [4, 6, 8]\n"
     ]
    }
   ],
   "source": [
    "./src/structs/structs"
   ]
  },
  {
   "cell_type": "code",
   "execution_count": 0,
   "metadata": {
    "collapsed": false
   },
   "outputs": [
   ],
   "source": [
   ]
  }
 ],
 "metadata": {
  "kernelspec": {
   "display_name": "Bash (Linux)",
   "language": "bash",
   "name": "bash"
  },
  "language_info": {
   "codemirror_mode": "shell",
   "file_extension": ".sh",
   "mimetype": "text/x-sh",
   "name": "bash"
  }
 },
 "nbformat": 4,
 "nbformat_minor": 0
}
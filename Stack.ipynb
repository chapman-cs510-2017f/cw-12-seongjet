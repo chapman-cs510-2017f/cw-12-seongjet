{
 "cells": [
  {
   "cell_type": "markdown",
   "metadata": {
    "collapsed": false
   },
   "source": [
    "### i \n",
    "In c, stack is a data type while in C++ stack is a class.  See below the difference\n",
    "#### C\n",
    "struct stack {\n",
    "    SVALUE data;\n",
    "    struct stack *head;\n",
    "};\n",
    "\n",
    "#### C++\n",
    "class Stack\n",
    "{\n",
    "private:\n",
    "    struct Node {\n",
    "        std::unique_ptr<Node> next;\n",
    "    };\n",
    "\n",
    "    std::unique_ptr<Node> head;\n",
    "public:\n",
    "    Stack();\n",
    "    SValue pop();\n",
    "    bool empty() const;\n",
    "    void print() const;\n",
    "};\n",
    "\n"
   ]
  },
  {
   "cell_type": "markdown",
   "metadata": {
    "collapsed": false
   },
   "source": [
    "### ii\n",
    "A structure is a value type so it is stored on the stack, but a class is a reference type and is stored on the heap. A structure doesn't support inheritance, and polymorphism, but a class supports both. By default, all the struct members are public but class members are by default private in nature.\n",
    "\n",
    "### iii\n",
    "private property and method can only be \"seen\" an used by the methods in the same class while public property and methods can be \"seen\" and used by other objects.\n",
    "\n",
    "### iv \n",
    "size_t is a safer version of an \"unsigned int\" used in C.\n",
    "\n",
    "### v \n",
    "the reason to avoid the use of C pointers is to avoid mistake using the pointer and causing unexpected errors, or forgetting release the memory allocated for the pointer.\n",
    "\n",
    "### vi\n",
    "Normally we would have to implement the following things in C++ here:\n",
    "1) New: alocate memory when a tact is created\n",
    "2) Delted: to deallocate memory when a Stack is deleted\n",
    "\n",
    "### vii\n",
    "a memory leak is a type of resource leak that occurs when a computer program incorrectly manages memory allocations in such a way that memory which is no longer needed is not released.  However, by using the \"unique_ptr\" type above, we carefully avoid any explicit memory allocation by using the allocation pre-defined inside the unique_ptr itself. \n",
    "\n",
    "### viii\n",
    "std::unique_ptr is a smart pointer that owns and manages another object through a pointer and disposes of that object when the unique_ptr goes out of scope.\n",
    "The object is disposed of using the associated deleter when either of the following happens:\n",
    "the managing unique_ptr object is destroyed\n",
    "the managing unique_ptr object is assigned another pointer via operator= or reset().\n",
    "\n",
    "### ix\n",
    "list initializer constructed an object with initial parameters.\n",
    "\n",
    "### x\n",
    "Rule of Zero: Classes that have custom destructors, copy/move constructors or copy/move assignment operators should deal exclusively with ownership. Other classes should not have custom destructors, copy/move constructors or copy/move assignment operators.\n",
    "\n",
    "Relue of Three:    A destructor; An assignment operator; A copy constructor\n"
   ]
  },
  {
   "cell_type": "code",
   "execution_count": 0,
   "metadata": {
    "collapsed": false
   },
   "outputs": [
   ],
   "source": [
   ]
  },
  {
   "cell_type": "code",
   "execution_count": 0,
   "metadata": {
    "collapsed": false
   },
   "outputs": [
   ],
   "source": [
   ]
  }
 ],
 "metadata": {
  "kernelspec": {
   "display_name": "R (R-Project)",
   "language": "r",
   "name": "ir"
  }
 },
 "nbformat": 4,
 "nbformat_minor": 0
}
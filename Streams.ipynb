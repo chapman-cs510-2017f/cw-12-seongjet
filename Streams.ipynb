{
 "cells": [
  {
   "cell_type": "markdown",
   "metadata": {
    "collapsed": false
   },
   "source": [
    "####  Explain the key differences that you see in the file between C++ and C.\n",
    "1. Instead of .c extension, C++ uses .cc extension for source files.\n",
    "2. .h extensions are not specified for C++ standard libraries.\n",
    "3. Namespace is instroduced in C++, while C use including libraries.\n",
    "4. C++ has itw own string type, while C use a character array for a string.\n",
    "\n",
    "##### Describe the concept of a namespace, and what :: means.\n",
    "The namespace is used to logically group codes. Python uses import and dot (.) to access to different libraries. C++ uses the symbol :: to look inside a namespace.\n",
    "In our example, we use std:: that denotes the \"standard namespace\".\n",
    "\n",
    "#### Describe how streams do things differently. In particular, explain the differences in reading from command line arguments, reading and writing to a file, printing to standard output, and printing to standard error.\n",
    "1. **cout** takes a string as a stream and prints it to stdout.\n",
    "2. The stream operator **<<** automatically converts types. In our example, the C-string (char \\*) of argv[0] (user console input) is converted to a true C++ string, then passed as a stream to **cout**.\n",
    "3. `getline(cin, input_str)` takes an user input in console. It converts the input to C++ true string type and store it into the input_str variable.\n",
    "4. `stringstream(input_str) >> fnum` takes a string and parse it into different typse. In our example, it converts the string number to a true float or int type.  \n",
    "5. `ofstream output_file` handle a file stream. Here output_file variable is defined as a file stream.\n",
    "6. **cerr** is another pipe dedicated for standard output like **cout**. It is purposed to display an error.\n",
    "\n",
    "#### Explain how a C++ string differs from a C string.\n",
    "C string is based on a character array, while C++ string has its own data type. It is much easier to join. C++ uses two expressions handling a string: 1) single-character literals - single quote (') and 2) more than one character - double quotes (\").\n"
   ]
  },
  {
   "cell_type": "code",
   "execution_count": 1,
   "metadata": {
    "collapsed": false
   },
   "outputs": [
    {
     "name": "stdout",
     "output_type": "stream",
     "text": [
      "arg1 = hello\n"
     ]
    },
    {
     "name": "stdout",
     "output_type": "stream",
     "text": [
      "This is printing from foo.\n"
     ]
    },
    {
     "name": "stdout",
     "output_type": "stream",
     "text": [
      "This is printing from bar.\n"
     ]
    },
    {
     "name": "stdout",
     "output_type": "stream",
     "text": [
      "This is printing from foo.\n"
     ]
    },
    {
     "name": "stdout",
     "output_type": "stream",
     "text": [
      "Enter a float: \r\n"
     ]
    }
   ],
   "source": [
    "./src/streams/streams 'hello'"
   ]
  },
  {
   "cell_type": "code",
   "execution_count": 0,
   "metadata": {
    "collapsed": false
   },
   "outputs": [
   ],
   "source": [
   ]
  }
 ],
 "metadata": {
  "kernelspec": {
   "display_name": "Bash (Linux)",
   "language": "bash",
   "name": "bash"
  },
  "language_info": {
   "codemirror_mode": "shell",
   "file_extension": ".sh",
   "mimetype": "text/x-sh",
   "name": "bash"
  }
 },
 "nbformat": 4,
 "nbformat_minor": 0
}